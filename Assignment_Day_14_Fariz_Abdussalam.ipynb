{
  "nbformat": 4,
  "nbformat_minor": 0,
  "metadata": {
    "colab": {
      "name": "Assignment Day 14 - Fariz Abdussalam.ipynb",
      "provenance": [],
      "toc_visible": true
    },
    "kernelspec": {
      "name": "python3",
      "display_name": "Python 3"
    },
    "language_info": {
      "name": "python"
    }
  },
  "cells": [
    {
      "cell_type": "code",
      "execution_count": 1,
      "metadata": {
        "id": "xCSwIsxUZkkb"
      },
      "outputs": [],
      "source": [
        "import pandas as pd"
      ]
    },
    {
      "cell_type": "code",
      "source": [
        "!pip install econml"
      ],
      "metadata": {
        "id": "bvcpsYzwZp3K"
      },
      "execution_count": null,
      "outputs": []
    },
    {
      "cell_type": "markdown",
      "source": [
        "# Casual Analysis 1 and 2, Basic"
      ],
      "metadata": {
        "id": "DATf61BAZqd6"
      }
    },
    {
      "cell_type": "markdown",
      "source": [
        "\n",
        "## no.1 why we need to do propensity matching score?"
      ],
      "metadata": {
        "id": "n4nFO7feZwWr"
      }
    },
    {
      "cell_type": "markdown",
      "source": [
        "answers : \n",
        "\n",
        "\n",
        "1.   to reduce to potential effects of confounders variables\n",
        "2.   to make dataset more balanced\n",
        "\n"
      ],
      "metadata": {
        "id": "Fa7PflXfh236"
      }
    },
    {
      "cell_type": "markdown",
      "source": [
        "## no 2. why double ML is better than double selection?"
      ],
      "metadata": {
        "id": "zJoRaxBUiEvk"
      }
    },
    {
      "cell_type": "markdown",
      "source": [
        "answers:\n",
        "the steps for  conduction double selection are:\n",
        "\n",
        "\n",
        "1.  Estimates the equation of X (confounding variabels) on Y (response)\n",
        "2.  Estimates the equation of X on D (treatment variable)\n",
        "3.  Estimates the equation of X and D on Y, by including the X variables on first and second equations. In other words, the dropped X variable in equation 1 can be included if it can also impact on D.\n",
        "\n",
        "The problem with this is we might include X that does have an impact on D, but does not actually have an impact on Y. This can have an impact on estimation of average treatment (D) effect.  \n",
        "\n",
        "We solve this problem using Double Machine Learning method. in this method, in step 3 we get dont use X variables to predict Y, instead we use only use our treatment variables to predict Y. but we must make sure we use their residuals, for both treatment and Y variables, not the original data. To get residuals treatment and Y variables, we need: \n",
        "\n",
        "\n",
        "1.   Estimates the Y using X variables, get the estimated Y\n",
        "2.   Estimates the D using X variables, get the estimated D\n",
        "3.   Residual D = D - estimated D\n",
        "4.   Residual Y = Y - estimated Y\n",
        "5.   Estimates the average effect of Residual D on Residual Y\n",
        "\n",
        "we use this estimation of average effect of residual D to measure the average effect of treatment variables on response. \n",
        "\n",
        "\n"
      ],
      "metadata": {
        "id": "UBK8Ri27l_Up"
      }
    },
    {
      "cell_type": "markdown",
      "source": [
        "reference :\n",
        "\n",
        "\n",
        "1.   https://www.r-bloggers.com/2017/05/problems-of-causal-inference-after-selecting-of-controls/\n",
        "2.   https://www.r-bloggers.com/2020/09/lasso-and-the-methods-of-causality/\n",
        "3. http://www2.stat.duke.edu/~fl35/teaching/640/Chapter4_MachineLearning.pdf\n",
        "4. https://madina-k.github.io/dse_mk2021/tutorial_dml.html\n",
        "\n",
        "\n"
      ],
      "metadata": {
        "id": "Q8iz0OaSxTia"
      }
    },
    {
      "cell_type": "markdown",
      "source": [
        "## no 3. When to use ATE, CATE, and LATE for analysing treatment effect?"
      ],
      "metadata": {
        "id": "XxlPjToZl4M4"
      }
    },
    {
      "cell_type": "markdown",
      "source": [
        "answers:\n",
        "\n",
        "\n",
        "*   WE use ATE when we want to see the average effect of treatment on a sample\n",
        "*   We use CATE when we want to see the average effect of treatment on sample on certain condition. In other words, we want to see the average effect of treatment on the subgroup of the sample. For example, we may suspect that men and women respond differently to treatment.hence , we can estimate CATE for group men only and women only. \n",
        "\n",
        "* we use LATE when we want to see the average treatment effect only for a subgroup of the sample that really follow their assignment as a treated or a control. in other words, it capture the effect on treatment group who actually receive the treatment, not just those people that were put into the treatment group. It does not capture effects of the treatment among everyone in the experimental sample, which in this case we use(ATE).\n",
        "\n",
        "\n"
      ],
      "metadata": {
        "id": "L6hi_9GumBEU"
      }
    },
    {
      "cell_type": "markdown",
      "source": [
        "reference:\n",
        "\n",
        "\n",
        "1.   https://egap.org/resource/10-types-of-treatment-effect-you-should-know-about/\n",
        "2.   https://egap.org/resource/10-things-to-know-about-the-local-average-treatment-effect/\n",
        "\n"
      ],
      "metadata": {
        "id": "u1IvYQCtXEEJ"
      }
    },
    {
      "cell_type": "markdown",
      "source": [
        "# Casual Analysis 1 and 2 : advanced"
      ],
      "metadata": {
        "id": "aO-p_PoKsh9B"
      }
    },
    {
      "cell_type": "code",
      "source": [
        ""
      ],
      "metadata": {
        "id": "OwxyBMfkE6eD"
      },
      "execution_count": null,
      "outputs": []
    },
    {
      "cell_type": "markdown",
      "source": [
        "#no 1. select covariates, and treatment variable"
      ],
      "metadata": {
        "id": "Hf0AJ_uAeFL8"
      }
    },
    {
      "cell_type": "markdown",
      "source": [
        "\n",
        "*   Treatment : intervention\n",
        "*   Response : achievement_score\n",
        "*   Covariates : ['success_expect',\n",
        "       'ethnicity', 'gender', 'frst_in_family', 'school_urbanicity',\n",
        "       'school_mindset', 'school_achievement', 'school_ethnic_minority',\n",
        "       'school_poverty', 'school_size']\n",
        "\n",
        "Reason choosing these covariates:\n",
        "\n",
        "\n",
        "\n",
        "1.   all these variables do not have a high correlation coefficient, meaning it is highly likely we wont have multicollinearity problem if we use all of them\n",
        "2.  the more we capture the effect of confounding variables , our estimation of the average effect of treatment will be more robust\n",
        "\n",
        "\n"
      ],
      "metadata": {
        "id": "81yNv5OkfiA3"
      }
    },
    {
      "cell_type": "markdown",
      "source": [
        "# no2. Model Selections"
      ],
      "metadata": {
        "id": "IQVVg6NAeJZI"
      }
    },
    {
      "cell_type": "markdown",
      "source": [
        "for this dataset,we use DML. Reasons:\n",
        "\n",
        "\n",
        "1.   There is [paper](https://www.sciencedirect.com/science/article/pii/S0360131521000671?casa_token=Kbfvn-CfHr0AAAAA:WfVvbdeB9i2KAo_HCg2jFmUOJUjbTMvHRFK4HHhhUlr-ahy4UcyKRzVARvaF-oxhH_gW9vKR) with a similar dataset, and it use DML to find the causal effect\n",
        "2.   Treatment is discrete\n",
        "3. confounders are observed in the dataset\n",
        "\n"
      ],
      "metadata": {
        "id": "VlUs5VwAeMHG"
      }
    },
    {
      "cell_type": "markdown",
      "source": [
        "# no 3. Analysis"
      ],
      "metadata": {
        "id": "ToSkfPdcfPkU"
      }
    },
    {
      "cell_type": "markdown",
      "source": [
        "## import packages"
      ],
      "metadata": {
        "id": "nRRdH0Oosk9O"
      }
    },
    {
      "cell_type": "code",
      "source": [
        "import pandas as pd\n",
        "import numpy as np\n",
        "# scikit learn\n",
        "from sklearn.linear_model import ElasticNetCV, LinearRegression\n",
        "from sklearn.ensemble import GradientBoostingRegressor, RandomForestRegressor, RandomForestClassifier\n",
        "from sklearn.tree import DecisionTreeRegressor\n",
        "# import train and test split method from scikit-learn\n",
        "from sklearn.model_selection import train_test_split\n",
        "\n",
        "# econml\n",
        "from econml.dml import DML\n",
        "from econml.metalearners import TLearner, SLearner, XLearner"
      ],
      "metadata": {
        "id": "t8rwZVFtsnOZ"
      },
      "execution_count": 154,
      "outputs": []
    },
    {
      "cell_type": "markdown",
      "source": [
        "## import dataset"
      ],
      "metadata": {
        "id": "mlTs1n--V_kW"
      }
    },
    {
      "cell_type": "code",
      "source": [
        "df = pd.read_csv(\"https://raw.githubusercontent.com/hadimaster65555/dataset_for_teaching/main/dataset/learning_mindset/learning_mindset.csv\")"
      ],
      "metadata": {
        "id": "Xi3Hsq7OsrLB"
      },
      "execution_count": 88,
      "outputs": []
    },
    {
      "cell_type": "code",
      "source": [
        "df_school = df.drop(columns = [\"schoolid\"])"
      ],
      "metadata": {
        "id": "MWNPxwa6mhR7"
      },
      "execution_count": 89,
      "outputs": []
    },
    {
      "cell_type": "markdown",
      "source": [
        "## checking correlation"
      ],
      "metadata": {
        "id": "8Robu-ShgssL"
      }
    },
    {
      "cell_type": "code",
      "source": [
        "df_corr = df_school.corr().stack().reset_index()\n",
        "df_corr.columns = [\"var1\",\"var2\",\"val\"]\n",
        "df_corr[\"val\"]= np.abs(df_corr[\"val\"])\n",
        "df_corr = df_corr.sort_values(by=[\"val\"], ascending = False)\n",
        "df_corr.loc[df_corr[\"var1\"]!=df_corr[\"var2\"]].head()"
      ],
      "metadata": {
        "colab": {
          "base_uri": "https://localhost:8080/",
          "height": 206
        },
        "id": "INGDFzDJeb1m",
        "outputId": "6c224ed6-af4d-4975-9d25-62dd921f0ef5"
      },
      "execution_count": 206,
      "outputs": [
        {
          "output_type": "execute_result",
          "data": {
            "text/plain": [
              "                       var1                var2       val\n",
              "92           school_mindset  school_achievement  0.573798\n",
              "103      school_achievement      school_mindset  0.573798\n",
              "139             school_size      school_mindset  0.492287\n",
              "95           school_mindset         school_size  0.492287\n",
              "116  school_ethnic_minority  school_achievement  0.478682"
            ],
            "text/html": [
              "\n",
              "  <div id=\"df-d2d8a97b-2e7f-4ff6-a269-2ea361deebf3\">\n",
              "    <div class=\"colab-df-container\">\n",
              "      <div>\n",
              "<style scoped>\n",
              "    .dataframe tbody tr th:only-of-type {\n",
              "        vertical-align: middle;\n",
              "    }\n",
              "\n",
              "    .dataframe tbody tr th {\n",
              "        vertical-align: top;\n",
              "    }\n",
              "\n",
              "    .dataframe thead th {\n",
              "        text-align: right;\n",
              "    }\n",
              "</style>\n",
              "<table border=\"1\" class=\"dataframe\">\n",
              "  <thead>\n",
              "    <tr style=\"text-align: right;\">\n",
              "      <th></th>\n",
              "      <th>var1</th>\n",
              "      <th>var2</th>\n",
              "      <th>val</th>\n",
              "    </tr>\n",
              "  </thead>\n",
              "  <tbody>\n",
              "    <tr>\n",
              "      <th>92</th>\n",
              "      <td>school_mindset</td>\n",
              "      <td>school_achievement</td>\n",
              "      <td>0.573798</td>\n",
              "    </tr>\n",
              "    <tr>\n",
              "      <th>103</th>\n",
              "      <td>school_achievement</td>\n",
              "      <td>school_mindset</td>\n",
              "      <td>0.573798</td>\n",
              "    </tr>\n",
              "    <tr>\n",
              "      <th>139</th>\n",
              "      <td>school_size</td>\n",
              "      <td>school_mindset</td>\n",
              "      <td>0.492287</td>\n",
              "    </tr>\n",
              "    <tr>\n",
              "      <th>95</th>\n",
              "      <td>school_mindset</td>\n",
              "      <td>school_size</td>\n",
              "      <td>0.492287</td>\n",
              "    </tr>\n",
              "    <tr>\n",
              "      <th>116</th>\n",
              "      <td>school_ethnic_minority</td>\n",
              "      <td>school_achievement</td>\n",
              "      <td>0.478682</td>\n",
              "    </tr>\n",
              "  </tbody>\n",
              "</table>\n",
              "</div>\n",
              "      <button class=\"colab-df-convert\" onclick=\"convertToInteractive('df-d2d8a97b-2e7f-4ff6-a269-2ea361deebf3')\"\n",
              "              title=\"Convert this dataframe to an interactive table.\"\n",
              "              style=\"display:none;\">\n",
              "        \n",
              "  <svg xmlns=\"http://www.w3.org/2000/svg\" height=\"24px\"viewBox=\"0 0 24 24\"\n",
              "       width=\"24px\">\n",
              "    <path d=\"M0 0h24v24H0V0z\" fill=\"none\"/>\n",
              "    <path d=\"M18.56 5.44l.94 2.06.94-2.06 2.06-.94-2.06-.94-.94-2.06-.94 2.06-2.06.94zm-11 1L8.5 8.5l.94-2.06 2.06-.94-2.06-.94L8.5 2.5l-.94 2.06-2.06.94zm10 10l.94 2.06.94-2.06 2.06-.94-2.06-.94-.94-2.06-.94 2.06-2.06.94z\"/><path d=\"M17.41 7.96l-1.37-1.37c-.4-.4-.92-.59-1.43-.59-.52 0-1.04.2-1.43.59L10.3 9.45l-7.72 7.72c-.78.78-.78 2.05 0 2.83L4 21.41c.39.39.9.59 1.41.59.51 0 1.02-.2 1.41-.59l7.78-7.78 2.81-2.81c.8-.78.8-2.07 0-2.86zM5.41 20L4 18.59l7.72-7.72 1.47 1.35L5.41 20z\"/>\n",
              "  </svg>\n",
              "      </button>\n",
              "      \n",
              "  <style>\n",
              "    .colab-df-container {\n",
              "      display:flex;\n",
              "      flex-wrap:wrap;\n",
              "      gap: 12px;\n",
              "    }\n",
              "\n",
              "    .colab-df-convert {\n",
              "      background-color: #E8F0FE;\n",
              "      border: none;\n",
              "      border-radius: 50%;\n",
              "      cursor: pointer;\n",
              "      display: none;\n",
              "      fill: #1967D2;\n",
              "      height: 32px;\n",
              "      padding: 0 0 0 0;\n",
              "      width: 32px;\n",
              "    }\n",
              "\n",
              "    .colab-df-convert:hover {\n",
              "      background-color: #E2EBFA;\n",
              "      box-shadow: 0px 1px 2px rgba(60, 64, 67, 0.3), 0px 1px 3px 1px rgba(60, 64, 67, 0.15);\n",
              "      fill: #174EA6;\n",
              "    }\n",
              "\n",
              "    [theme=dark] .colab-df-convert {\n",
              "      background-color: #3B4455;\n",
              "      fill: #D2E3FC;\n",
              "    }\n",
              "\n",
              "    [theme=dark] .colab-df-convert:hover {\n",
              "      background-color: #434B5C;\n",
              "      box-shadow: 0px 1px 3px 1px rgba(0, 0, 0, 0.15);\n",
              "      filter: drop-shadow(0px 1px 2px rgba(0, 0, 0, 0.3));\n",
              "      fill: #FFFFFF;\n",
              "    }\n",
              "  </style>\n",
              "\n",
              "      <script>\n",
              "        const buttonEl =\n",
              "          document.querySelector('#df-d2d8a97b-2e7f-4ff6-a269-2ea361deebf3 button.colab-df-convert');\n",
              "        buttonEl.style.display =\n",
              "          google.colab.kernel.accessAllowed ? 'block' : 'none';\n",
              "\n",
              "        async function convertToInteractive(key) {\n",
              "          const element = document.querySelector('#df-d2d8a97b-2e7f-4ff6-a269-2ea361deebf3');\n",
              "          const dataTable =\n",
              "            await google.colab.kernel.invokeFunction('convertToInteractive',\n",
              "                                                     [key], {});\n",
              "          if (!dataTable) return;\n",
              "\n",
              "          const docLinkHtml = 'Like what you see? Visit the ' +\n",
              "            '<a target=\"_blank\" href=https://colab.research.google.com/notebooks/data_table.ipynb>data table notebook</a>'\n",
              "            + ' to learn more about interactive tables.';\n",
              "          element.innerHTML = '';\n",
              "          dataTable['output_type'] = 'display_data';\n",
              "          await google.colab.output.renderOutput(dataTable, element);\n",
              "          const docLink = document.createElement('div');\n",
              "          docLink.innerHTML = docLinkHtml;\n",
              "          element.appendChild(docLink);\n",
              "        }\n",
              "      </script>\n",
              "    </div>\n",
              "  </div>\n",
              "  "
            ]
          },
          "metadata": {},
          "execution_count": 206
        }
      ]
    },
    {
      "cell_type": "markdown",
      "source": [
        "all variabels do not have a high correlation score with each other"
      ],
      "metadata": {
        "id": "sEG03qqFgxRJ"
      }
    },
    {
      "cell_type": "code",
      "source": [
        ""
      ],
      "metadata": {
        "id": "7CVujkIHeD2S"
      },
      "execution_count": null,
      "outputs": []
    },
    {
      "cell_type": "markdown",
      "source": [
        "## train test split"
      ],
      "metadata": {
        "id": "l3XH28gIWDIm"
      }
    },
    {
      "cell_type": "code",
      "source": [
        "test_index = df_school.sample(frac=0.3).index\n",
        "ice_cream_test = df_school.iloc[test_index]\n",
        "ice_cream_train = df_school.iloc[pd.Index(set(df_school.index).difference(set(test_index)))]"
      ],
      "metadata": {
        "id": "Vc23-RobxaCg"
      },
      "execution_count": 96,
      "outputs": []
    },
    {
      "cell_type": "code",
      "source": [
        "ice_cream_test = df_school.iloc[test_index]"
      ],
      "metadata": {
        "id": "qxwqkTVnzxMu"
      },
      "execution_count": 180,
      "outputs": []
    },
    {
      "cell_type": "code",
      "source": [
        "ice_cream_train = df_school.iloc[pd.Index(set(df_school.index).difference(set(test_index)))]"
      ],
      "metadata": {
        "id": "w36F5uTwxzuv"
      },
      "execution_count": 116,
      "outputs": []
    },
    {
      "cell_type": "code",
      "source": [
        "ice_cream_train.info()"
      ],
      "metadata": {
        "colab": {
          "base_uri": "https://localhost:8080/"
        },
        "id": "Qqx1GpFxHppA",
        "outputId": "d371d568-9475-4352-8278-e6139446cb74"
      },
      "execution_count": 139,
      "outputs": [
        {
          "output_type": "stream",
          "name": "stdout",
          "text": [
            "<class 'pandas.core.frame.DataFrame'>\n",
            "Int64Index: 7274 entries, 2 to 10390\n",
            "Data columns (total 12 columns):\n",
            " #   Column                  Non-Null Count  Dtype  \n",
            "---  ------                  --------------  -----  \n",
            " 0   intervention            7274 non-null   int64  \n",
            " 1   achievement_score       7274 non-null   float64\n",
            " 2   success_expect          7274 non-null   int64  \n",
            " 3   ethnicity               7274 non-null   int64  \n",
            " 4   gender                  7274 non-null   int64  \n",
            " 5   frst_in_family          7274 non-null   int64  \n",
            " 6   school_urbanicity       7274 non-null   int64  \n",
            " 7   school_mindset          7274 non-null   float64\n",
            " 8   school_achievement      7274 non-null   float64\n",
            " 9   school_ethnic_minority  7274 non-null   float64\n",
            " 10  school_poverty          7274 non-null   float64\n",
            " 11  school_size             7274 non-null   float64\n",
            "dtypes: float64(6), int64(6)\n",
            "memory usage: 996.8 KB\n"
          ]
        }
      ]
    },
    {
      "cell_type": "markdown",
      "source": [
        "## modelling with double machine learning method"
      ],
      "metadata": {
        "id": "qtM_qPXMWI7P"
      }
    },
    {
      "cell_type": "code",
      "source": [
        "# set response\n",
        "dv = ice_cream_train[\"achievement_score\"]\n",
        "# set covariates\n",
        "iv = ice_cream_train[['success_expect',\n",
        "       'ethnicity', 'gender', 'frst_in_family', 'school_urbanicity',\n",
        "       'school_mindset', 'school_achievement', 'school_ethnic_minority',\n",
        "       'school_poverty', 'school_size']]\n",
        "# set treatment variabel\n",
        "t = ice_cream_train[\"intervention\"]"
      ],
      "metadata": {
        "id": "5S1djzfMSF9m"
      },
      "execution_count": 166,
      "outputs": []
    },
    {
      "cell_type": "code",
      "source": [
        "#set data for prediction\n",
        "iv_test = ice_cream_test[['success_expect',\n",
        "       'ethnicity', 'gender', 'frst_in_family', 'school_urbanicity',\n",
        "       'school_mindset', 'school_achievement', 'school_ethnic_minority',\n",
        "       'school_poverty', 'school_size']]"
      ],
      "metadata": {
        "id": "Hp83-7WaUY40"
      },
      "execution_count": 181,
      "outputs": []
    },
    {
      "cell_type": "code",
      "source": [
        "# define DML Object\n",
        "dml_est = DML(\n",
        "    model_y = GradientBoostingRegressor(n_estimators=100, random_state = 1000),\n",
        "    model_t = GradientBoostingRegressor(n_estimators=100, random_state = 1000),\n",
        "    model_final = LinearRegression(fit_intercept=False),\n",
        "    random_state = 1000\n",
        ")"
      ],
      "metadata": {
        "id": "DyDII-FhmvEz"
      },
      "execution_count": 172,
      "outputs": []
    },
    {
      "cell_type": "code",
      "source": [
        "# fit estimator to train data\n",
        "np.random.seed(1000)\n",
        "dml_est.fit(dv, T = t, X = iv, inference=\"bootstrap\")"
      ],
      "metadata": {
        "colab": {
          "base_uri": "https://localhost:8080/"
        },
        "id": "NEeVyIiDmyot",
        "outputId": "07047fb9-df16-44fc-94ec-2095ef4a4243"
      },
      "execution_count": 176,
      "outputs": [
        {
          "output_type": "execute_result",
          "data": {
            "text/plain": [
              "<econml.dml.dml.DML at 0x7f100a1d7c50>"
            ]
          },
          "metadata": {},
          "execution_count": 176
        }
      ]
    },
    {
      "cell_type": "code",
      "source": [
        "dml_est.summary()"
      ],
      "metadata": {
        "colab": {
          "base_uri": "https://localhost:8080/",
          "height": 490
        },
        "id": "kA2H1F-zS_ee",
        "outputId": "e35f4d0e-7625-4852-c4c0-bfe1fa72521e"
      },
      "execution_count": 177,
      "outputs": [
        {
          "output_type": "execute_result",
          "data": {
            "text/plain": [
              "<class 'econml.utilities.Summary'>\n",
              "\"\"\"\n",
              "                            Coefficient Results                             \n",
              "============================================================================\n",
              "                       point_estimate stderr zstat  pvalue ci_lower ci_upper\n",
              "----------------------------------------------------------------------------\n",
              "success_expect                  0.029  0.019  1.535   0.06   -0.009    0.066\n",
              "ethnicity                         0.0  0.006  0.056   0.48   -0.012    0.009\n",
              "gender                          0.014  0.042  0.328   0.48   -0.071    0.098\n",
              "frst_in_family                 -0.007  0.044 -0.166   0.35   -0.109    0.055\n",
              "school_urbanicity               0.006  0.018    0.3   0.32   -0.023    0.044\n",
              "school_mindset                 -0.033  0.029 -1.154   0.18   -0.097    0.019\n",
              "school_achievement               0.01  0.034  0.297    0.3   -0.041    0.084\n",
              "school_ethnic_minority         -0.008  0.026 -0.303    0.2   -0.066    0.035\n",
              "school_poverty                  0.038  0.026  1.492   0.03   -0.002    0.098\n",
              "school_size                     0.022  0.028  0.789   0.24    -0.03    0.078\n",
              "                       CATE Intercept Results                      \n",
              "===================================================================\n",
              "               point_estimate stderr zstat pvalue ci_lower ci_upper\n",
              "-------------------------------------------------------------------\n",
              "cate_intercept          0.169  0.152 1.112   0.12   -0.129    0.413\n",
              "-------------------------------------------------------------------\n",
              "\n",
              "<sub>A linear parametric conditional average treatment effect (CATE) model was fitted:\n",
              "$Y = \\Theta(X)\\cdot T + g(X, W) + \\epsilon$\n",
              "where for every outcome $i$ and treatment $j$ the CATE $\\Theta_{ij}(X)$ has the form:\n",
              "$\\Theta_{ij}(X) = \\phi(X)' coef_{ij} + cate\\_intercept_{ij}$\n",
              "where $\\phi(X)$ is the output of the `featurizer` or $X$ if `featurizer`=None. Coefficient Results table portrays the $coef_{ij}$ parameter vector for each outcome $i$ and treatment $j$. Intercept Results table portrays the $cate\\_intercept_{ij}$ parameter.</sub>\n",
              "\"\"\""
            ],
            "text/html": [
              "<table class=\"simpletable\">\n",
              "<caption>Coefficient Results</caption>\n",
              "<tr>\n",
              "             <td></td>            <th>point_estimate</th> <th>stderr</th>  <th>zstat</th> <th>pvalue</th> <th>ci_lower</th> <th>ci_upper</th>\n",
              "</tr>\n",
              "<tr>\n",
              "  <th>success_expect</th>              <td>0.029</td>      <td>0.019</td>  <td>1.535</td>  <td>0.06</td>   <td>-0.009</td>    <td>0.066</td> \n",
              "</tr>\n",
              "<tr>\n",
              "  <th>ethnicity</th>                    <td>0.0</td>       <td>0.006</td>  <td>0.056</td>  <td>0.48</td>   <td>-0.012</td>    <td>0.009</td> \n",
              "</tr>\n",
              "<tr>\n",
              "  <th>gender</th>                      <td>0.014</td>      <td>0.042</td>  <td>0.328</td>  <td>0.48</td>   <td>-0.071</td>    <td>0.098</td> \n",
              "</tr>\n",
              "<tr>\n",
              "  <th>frst_in_family</th>             <td>-0.007</td>      <td>0.044</td> <td>-0.166</td>  <td>0.35</td>   <td>-0.109</td>    <td>0.055</td> \n",
              "</tr>\n",
              "<tr>\n",
              "  <th>school_urbanicity</th>           <td>0.006</td>      <td>0.018</td>   <td>0.3</td>   <td>0.32</td>   <td>-0.023</td>    <td>0.044</td> \n",
              "</tr>\n",
              "<tr>\n",
              "  <th>school_mindset</th>             <td>-0.033</td>      <td>0.029</td> <td>-1.154</td>  <td>0.18</td>   <td>-0.097</td>    <td>0.019</td> \n",
              "</tr>\n",
              "<tr>\n",
              "  <th>school_achievement</th>          <td>0.01</td>       <td>0.034</td>  <td>0.297</td>   <td>0.3</td>   <td>-0.041</td>    <td>0.084</td> \n",
              "</tr>\n",
              "<tr>\n",
              "  <th>school_ethnic_minority</th>     <td>-0.008</td>      <td>0.026</td> <td>-0.303</td>   <td>0.2</td>   <td>-0.066</td>    <td>0.035</td> \n",
              "</tr>\n",
              "<tr>\n",
              "  <th>school_poverty</th>              <td>0.038</td>      <td>0.026</td>  <td>1.492</td>  <td>0.03</td>   <td>-0.002</td>    <td>0.098</td> \n",
              "</tr>\n",
              "<tr>\n",
              "  <th>school_size</th>                 <td>0.022</td>      <td>0.028</td>  <td>0.789</td>  <td>0.24</td>    <td>-0.03</td>    <td>0.078</td> \n",
              "</tr>\n",
              "</table>\n",
              "<table class=\"simpletable\">\n",
              "<caption>CATE Intercept Results</caption>\n",
              "<tr>\n",
              "         <td></td>        <th>point_estimate</th> <th>stderr</th> <th>zstat</th> <th>pvalue</th> <th>ci_lower</th> <th>ci_upper</th>\n",
              "</tr>\n",
              "<tr>\n",
              "  <th>cate_intercept</th>      <td>0.169</td>      <td>0.152</td> <td>1.112</td>  <td>0.12</td>   <td>-0.129</td>    <td>0.413</td> \n",
              "</tr>\n",
              "</table><br/><br/><sub>A linear parametric conditional average treatment effect (CATE) model was fitted:<br/>$Y = \\Theta(X)\\cdot T + g(X, W) + \\epsilon$<br/>where for every outcome $i$ and treatment $j$ the CATE $\\Theta_{ij}(X)$ has the form:<br/>$\\Theta_{ij}(X) = \\phi(X)' coef_{ij} + cate\\_intercept_{ij}$<br/>where $\\phi(X)$ is the output of the `featurizer` or $X$ if `featurizer`=None. Coefficient Results table portrays the $coef_{ij}$ parameter vector for each outcome $i$ and treatment $j$. Intercept Results table portrays the $cate\\_intercept_{ij}$ parameter.</sub>"
            ]
          },
          "metadata": {},
          "execution_count": 177
        }
      ]
    },
    {
      "cell_type": "markdown",
      "source": [
        "Intepretation:  all covariates have effect, eventough only school_poverty has signicant effect (p_value < 0.05) in impacting achievement score"
      ],
      "metadata": {
        "id": "0eWgUuRUipbw"
      }
    },
    {
      "cell_type": "code",
      "source": [
        "# Get treatment effect and its confidence interval\n",
        "te_pred = dml_est.effect(iv_test)"
      ],
      "metadata": {
        "id": "QOOFHsH6UOQm"
      },
      "execution_count": 182,
      "outputs": []
    },
    {
      "cell_type": "code",
      "source": [
        "# Measure treatment effect\n",
        "np.mean(te_pred)"
      ],
      "metadata": {
        "colab": {
          "base_uri": "https://localhost:8080/",
          "height": 37
        },
        "id": "zsH1aN4gVTTX",
        "outputId": "25856b72-983e-46c1-fcef-2511b28ff178"
      },
      "execution_count": 183,
      "outputs": [
        {
          "output_type": "execute_result",
          "data": {
            "text/plain": [
              "0.35426696261171653"
            ],
            "image/png": "[encoded data removed]",
            "text/latex": "$\\displaystyle 0.354266962611717$"
          },
          "metadata": {},
          "execution_count": 183
        }
      ]
    },
    {
      "cell_type": "code",
      "source": [
        "import seaborn as sns\n",
        "# check treatment effect distribution\n",
        "sns.boxplot(x = te_pred).set_title(\"Treatment Effect Distribution by using DML\");"
      ],
      "metadata": {
        "colab": {
          "base_uri": "https://localhost:8080/",
          "height": 281
        },
        "id": "BycstYPQmytD",
        "outputId": "f5dbb41f-a8d1-4dc5-9257-e3e682a413be"
      },
      "execution_count": 185,
      "outputs": [
        {
          "output_type": "display_data",
          "data": {
            "text/plain": [
              "<Figure size 432x288 with 1 Axes>"
            ],
            "image/png": "[encoded data removed]"
          },
          "metadata": {
            "needs_background": "light"
          }
        }
      ]
    },
    {
      "cell_type": "markdown",
      "source": [
        "## Conclusions"
      ],
      "metadata": {
        "id": "6QbEVoltVlb9"
      }
    },
    {
      "cell_type": "markdown",
      "source": [
        "Because the ATE is positive, we can interpret that if student schooled about “growth mindset\", their achievement score should be increased"
      ],
      "metadata": {
        "id": "z1yZKd0EVnuB"
      }
    },
    {
      "cell_type": "markdown",
      "source": [
        "# Github link"
      ],
      "metadata": {
        "id": "Ni5rTjZ3SgoD"
      }
    },
    {
      "cell_type": "code",
      "source": [
        ""
      ],
      "metadata": {
        "id": "DTDhrVhQVkpn"
      },
      "execution_count": null,
      "outputs": []
    }
  ]
}